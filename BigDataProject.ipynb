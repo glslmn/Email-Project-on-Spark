{
 "cells": [
  {
   "cell_type": "code",
   "execution_count": null,
   "metadata": {},
   "outputs": [],
   "source": [
    "from email.parser import Parser\n",
    "import re\n",
    "import time\n",
    "from datetime import datetime, timezone, timedelta\n",
    "\n",
    "pretty = lambda x: '\\n'.join(str(e) for e in x) if x else None\n",
    "pretty_rdd = lambda x: pretty(x.collect()) if x else None\n",
    "\n",
    "def date_to_dt(date):\n",
    "    def to_dt(tms):\n",
    "        def tz():\n",
    "            return timezone(timedelta(seconds=tms.tm_gmtoff))\n",
    "        return datetime(tms.tm_year, tms.tm_mon, tms.tm_mday, \n",
    "                      tms.tm_hour, tms.tm_min, tms.tm_sec, \n",
    "                      tzinfo=tz())\n",
    "    return to_dt(time.strptime(date[:-6], '%a, %d %b %Y %H:%M:%S %z'))\n",
    "\n",
    "# Helper function to decode\n",
    "# the emails from the input dataset\n",
    "# and ignore malformated entries \n",
    "def utf8_decode_and_filter(rdd):\n",
    "    def utf_decode(s):\n",
    "        try:\n",
    "          return str(s, 'utf-8')\n",
    "        except:\n",
    "            pass\n",
    "    return rdd.map(lambda x: utf_decode(x[1])).filter(lambda x: x != None)"
   ]
  },
  {
   "cell_type": "markdown",
   "metadata": {},
   "source": [
    "## Q1)"
   ]
  },
  {
   "cell_type": "code",
   "execution_count": null,
   "metadata": {},
   "outputs": [],
   "source": [
    "def extract_email_network(rdd):\n",
    "    import re\n",
    "    val_by_vec=lambda x,t,p:((x,item,p) for item in t)\n",
    "    email_regex = \"[\\w.!#$%&'*+-/=?^_`{|}~]+@([a-zA-Z0-9]*\\.+(enron.com)$|(enron.com)$)\"\n",
    "    valid_email=(lambda s: True if re.compile(email_regex).fullmatch(s)!=None else False)\n",
    "    \n",
    "    rdd_mail=rdd.map(lambda item:Parser().parsestr(item))\n",
    "    rdd_full_email_tuples=rdd_mail.map(lambda item:(item.get('From'),[item.get('To'), item.get('Cc'), item.get('Bcc')],date_to_dt(item.get('Date'))))\n",
    "    rdd_email_triples=rdd_full_email_tuples.flatMap(lambda x:val_by_vec(x[0],x[1],x[2]))\n",
    "    rdd_email_triples_enron=rdd_email_triples.filter(lambda x: x[1] != None)\\\n",
    "    .filter(lambda x:x[0]!=x[1])\\\n",
    "    .map(lambda x:(x[0],re.sub('\\,*\\s+',',',x[1]),x[2]))\\\n",
    "    .map(lambda x:(x[0],x[1].split(','),x[2]))\\\n",
    "    .flatMap(lambda x:val_by_vec(x[0],x[1],x[2]))\\\n",
    "    .map(lambda x:(x[0],x[1],x[2]))\\\n",
    "    .filter(lambda x:valid_email(x[0]) and valid_email(x[1]))\n",
    "    distinct_triples = rdd_email_triples_enron.distinct()\n",
    "    \n",
    "    return(distinct_triples)"
   ]
  },
  {
   "cell_type": "markdown",
   "metadata": {},
   "source": [
    "## Q2)"
   ]
  },
  {
   "cell_type": "code",
   "execution_count": null,
   "metadata": {},
   "outputs": [],
   "source": [
    "def convert_to_weighted_network(rdd,drange=None):\n",
    "    if drange!=None:\n",
    "        rdd_result=rdd.filter(lambda x:drange[1]>=x[2] and x[2]>=drange[0]).map(lambda x:((x[0],x[1]),1))\\\n",
    "        .reduceByKey(lambda x,y:x+y).map(lambda x:(x[0][0],x[0][1],x[1])).sortBy(lambda x:x[1],False).sortBy(lambda x:x[0])\n",
    "        return(rdd_result)\n",
    "    elif drange==None:\n",
    "        rdd_result=rdd.map(lambda x:((x[0],x[1]),1)).reduceByKey(lambda a,x:a+x)\\\n",
    "        .map(lambda x:(x[0][0],x[0][1],x[1])).sortBy(lambda x:x[0])\n",
    "        return(rdd_result)"
   ]
  },
  {
   "cell_type": "code",
   "execution_count": null,
   "metadata": {},
   "outputs": [],
   "source": [
    "rdd = extract_email_network(\n",
    "        utf8_decode_and_filter(sc.sequenceFile(\n",
    "                '/user/uxac007/project1819/samples/enron20.seq')))\n",
    "(lambda rdd: rdd.cache() if rdd else None)(rdd)"
   ]
  },
  {
   "cell_type": "markdown",
   "metadata": {},
   "source": [
    "## Q3.1)"
   ]
  },
  {
   "cell_type": "code",
   "execution_count": null,
   "metadata": {},
   "outputs": [],
   "source": [
    "def get_out_degrees(rdd):\n",
    "    rdd_sender=rdd.map(lambda x:(x[0],x[2]))\\\n",
    "    .reduceByKey(lambda a,x:a+x).map(lambda x:(x[1],x[0])).sortBy(lambda x: x[1],False).sortBy(lambda x: x[0], False)\n",
    "    \n",
    "    rdd_receiver=rdd.map(lambda x:x[1]).subtract(rdd.keys()).distinct().map(lambda x:(0,x)).sortBy(lambda x: x[1],False)\n",
    "    \n",
    "    rdd_result=rdd_sender.union(rdd_receiver)\n",
    "    \n",
    "    return(rdd_result)"
   ]
  },
  {
   "cell_type": "markdown",
   "metadata": {},
   "source": [
    "## Q3.2)"
   ]
  },
  {
   "cell_type": "code",
   "execution_count": null,
   "metadata": {},
   "outputs": [],
   "source": [
    "def get_in_degrees(rdd):\n",
    "    rdd_sender=rdd.map(lambda x:(x[1],x[2])).reduceByKey(lambda a,x:a+x)\\\n",
    "    .map(lambda x:(x[1],x[0])).sortBy(lambda x:x[1],False).sortBy(lambda x:x[0],False)\n",
    "    \n",
    "    rdd_receiver=rdd.map(lambda x:x[0]).subtract(rdd.map(lambda x:x[1]))\\\n",
    "    .distinct().map(lambda x:(0,x)).sortBy(lambda x:x[1],False)\n",
    "    \n",
    "    return(rdd_sender.union(rdd_receiver))"
   ]
  },
  {
   "cell_type": "markdown",
   "metadata": {},
   "source": [
    "## Q4.1)"
   ]
  },
  {
   "cell_type": "code",
   "execution_count": null,
   "metadata": {},
   "outputs": [],
   "source": [
    "def get_out_degree_dist(rdd):\n",
    "    rdd_sender=rdd.map(lambda x:(x[0],x[2])).reduceByKey(lambda a,x:a+x).map(lambda x:(x[1],x[0]))\n",
    "    \n",
    "    rdd_receiver=rdd.map(lambda x:x[1]).subtract(rdd.keys()).distinct().map(lambda x:(0,x))\n",
    "    \n",
    "    rdd_result=rdd_sender.union(rdd_receiver).map(lambda x:(x[0],1))\\\n",
    "    .reduceByKey(lambda a,x:a+x).sortBy(lambda x:x[0])\n",
    "    \n",
    "    return(rdd_result)"
   ]
  },
  {
   "cell_type": "markdown",
   "metadata": {},
   "source": [
    "## Q4.2)"
   ]
  },
  {
   "cell_type": "code",
   "execution_count": null,
   "metadata": {},
   "outputs": [],
   "source": [
    "def get_in_degree_dist(rdd):\n",
    "    rdd_receiver=pp.map(lambda x:(x[1],x[2])).reduceByKey(lambda a,x:a+x).map(lambda x:(x[1],x[0]))\n",
    "    \n",
    "    rdd_sender=pp.map(lambda x:x[0]).subtract(pp.map(lambda x:x[1])).distinct().map(lambda x:(0,x,1))\n",
    "    \n",
    "    rdd_result=rdd_sender.union(rdd_receiver).map(lambda x:(x[0],1))\\\n",
    "    .reduceByKey(lambda a,x:a+x).sortBy(lambda x:x[0])\n",
    "    \n",
    "    return(rdd_result)"
   ]
  }
 ],
 "metadata": {
  "kernelspec": {
   "display_name": "Python 3",
   "language": "python",
   "name": "python3"
  },
  "language_info": {
   "codemirror_mode": {
    "name": "ipython",
    "version": 3
   },
   "file_extension": ".py",
   "mimetype": "text/x-python",
   "name": "python",
   "nbconvert_exporter": "python",
   "pygments_lexer": "ipython3",
   "version": "3.7.1"
  }
 },
 "nbformat": 4,
 "nbformat_minor": 2
}
